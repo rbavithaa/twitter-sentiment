{
 "cells": [
  {
   "cell_type": "code",
   "execution_count": 1,
   "id": "066bdbfb",
   "metadata": {},
   "outputs": [],
   "source": [
    "import pandas as pd\n",
    "import matplotlib.pyplot as plt"
   ]
  },
  {
   "cell_type": "markdown",
   "id": "c68a6d79",
   "metadata": {},
   "source": [
    "# Reading dataset"
   ]
  },
  {
   "cell_type": "code",
   "execution_count": 2,
   "id": "e1680499",
   "metadata": {},
   "outputs": [],
   "source": [
    "data = pd.read_csv(r\"C:\\Users\\posah\\Desktop\\TRESURE\\PROJECT DATA SCIENCE\\lavs\\Tweets.csv\")\n",
    "data = data[:5443]"
   ]
  },
  {
   "cell_type": "markdown",
   "id": "708ece1f",
   "metadata": {},
   "source": [
    "# Data Analysis"
   ]
  },
  {
   "cell_type": "code",
   "execution_count": 3,
   "id": "a42a613c",
   "metadata": {},
   "outputs": [
    {
     "data": {
      "text/html": [
       "<div>\n",
       "<style scoped>\n",
       "    .dataframe tbody tr th:only-of-type {\n",
       "        vertical-align: middle;\n",
       "    }\n",
       "\n",
       "    .dataframe tbody tr th {\n",
       "        vertical-align: top;\n",
       "    }\n",
       "\n",
       "    .dataframe thead th {\n",
       "        text-align: right;\n",
       "    }\n",
       "</style>\n",
       "<table border=\"1\" class=\"dataframe\">\n",
       "  <thead>\n",
       "    <tr style=\"text-align: right;\">\n",
       "      <th></th>\n",
       "      <th>textID</th>\n",
       "      <th>text</th>\n",
       "      <th>selected_text</th>\n",
       "      <th>sentiment</th>\n",
       "    </tr>\n",
       "  </thead>\n",
       "  <tbody>\n",
       "    <tr>\n",
       "      <th>0</th>\n",
       "      <td>cb774db0d1</td>\n",
       "      <td>I`d have responded, if I were going</td>\n",
       "      <td>I`d have responded, if I were going</td>\n",
       "      <td>neutral</td>\n",
       "    </tr>\n",
       "    <tr>\n",
       "      <th>1</th>\n",
       "      <td>549e992a42</td>\n",
       "      <td>Sooo SAD I will miss you here in San Diego!!!</td>\n",
       "      <td>Sooo SAD</td>\n",
       "      <td>negative</td>\n",
       "    </tr>\n",
       "    <tr>\n",
       "      <th>2</th>\n",
       "      <td>088c60f138</td>\n",
       "      <td>my boss is bullying me...</td>\n",
       "      <td>bullying me</td>\n",
       "      <td>negative</td>\n",
       "    </tr>\n",
       "    <tr>\n",
       "      <th>3</th>\n",
       "      <td>9642c003ef</td>\n",
       "      <td>what interview! leave me alone</td>\n",
       "      <td>leave me alone</td>\n",
       "      <td>negative</td>\n",
       "    </tr>\n",
       "    <tr>\n",
       "      <th>4</th>\n",
       "      <td>358bd9e861</td>\n",
       "      <td>Sons of ****, why couldn`t they put them on t...</td>\n",
       "      <td>Sons of ****,</td>\n",
       "      <td>negative</td>\n",
       "    </tr>\n",
       "  </tbody>\n",
       "</table>\n",
       "</div>"
      ],
      "text/plain": [
       "       textID                                               text  \\\n",
       "0  cb774db0d1                I`d have responded, if I were going   \n",
       "1  549e992a42      Sooo SAD I will miss you here in San Diego!!!   \n",
       "2  088c60f138                          my boss is bullying me...   \n",
       "3  9642c003ef                     what interview! leave me alone   \n",
       "4  358bd9e861   Sons of ****, why couldn`t they put them on t...   \n",
       "\n",
       "                         selected_text sentiment  \n",
       "0  I`d have responded, if I were going   neutral  \n",
       "1                             Sooo SAD  negative  \n",
       "2                          bullying me  negative  \n",
       "3                       leave me alone  negative  \n",
       "4                        Sons of ****,  negative  "
      ]
     },
     "execution_count": 3,
     "metadata": {},
     "output_type": "execute_result"
    }
   ],
   "source": [
    "data.head()"
   ]
  },
  {
   "cell_type": "code",
   "execution_count": 4,
   "id": "2110ee52",
   "metadata": {},
   "outputs": [
    {
     "data": {
      "text/html": [
       "<div>\n",
       "<style scoped>\n",
       "    .dataframe tbody tr th:only-of-type {\n",
       "        vertical-align: middle;\n",
       "    }\n",
       "\n",
       "    .dataframe tbody tr th {\n",
       "        vertical-align: top;\n",
       "    }\n",
       "\n",
       "    .dataframe thead th {\n",
       "        text-align: right;\n",
       "    }\n",
       "</style>\n",
       "<table border=\"1\" class=\"dataframe\">\n",
       "  <thead>\n",
       "    <tr style=\"text-align: right;\">\n",
       "      <th></th>\n",
       "      <th>textID</th>\n",
       "      <th>text</th>\n",
       "      <th>selected_text</th>\n",
       "      <th>sentiment</th>\n",
       "    </tr>\n",
       "  </thead>\n",
       "  <tbody>\n",
       "    <tr>\n",
       "      <th>count</th>\n",
       "      <td>5443</td>\n",
       "      <td>5442</td>\n",
       "      <td>5442</td>\n",
       "      <td>5443</td>\n",
       "    </tr>\n",
       "    <tr>\n",
       "      <th>unique</th>\n",
       "      <td>5443</td>\n",
       "      <td>5442</td>\n",
       "      <td>4756</td>\n",
       "      <td>3</td>\n",
       "    </tr>\n",
       "    <tr>\n",
       "      <th>top</th>\n",
       "      <td>cb774db0d1</td>\n",
       "      <td>I`d have responded, if I were going</td>\n",
       "      <td>good</td>\n",
       "      <td>neutral</td>\n",
       "    </tr>\n",
       "    <tr>\n",
       "      <th>freq</th>\n",
       "      <td>1</td>\n",
       "      <td>1</td>\n",
       "      <td>34</td>\n",
       "      <td>2200</td>\n",
       "    </tr>\n",
       "  </tbody>\n",
       "</table>\n",
       "</div>"
      ],
      "text/plain": [
       "            textID                                  text selected_text  \\\n",
       "count         5443                                  5442          5442   \n",
       "unique        5443                                  5442          4756   \n",
       "top     cb774db0d1   I`d have responded, if I were going          good   \n",
       "freq             1                                     1            34   \n",
       "\n",
       "       sentiment  \n",
       "count       5443  \n",
       "unique         3  \n",
       "top      neutral  \n",
       "freq        2200  "
      ]
     },
     "execution_count": 4,
     "metadata": {},
     "output_type": "execute_result"
    }
   ],
   "source": [
    "data.describe()"
   ]
  },
  {
   "cell_type": "code",
   "execution_count": 5,
   "id": "bab0fc15",
   "metadata": {},
   "outputs": [
    {
     "name": "stdout",
     "output_type": "stream",
     "text": [
      "<class 'pandas.core.frame.DataFrame'>\n",
      "RangeIndex: 5443 entries, 0 to 5442\n",
      "Data columns (total 4 columns):\n",
      " #   Column         Non-Null Count  Dtype \n",
      "---  ------         --------------  ----- \n",
      " 0   textID         5443 non-null   object\n",
      " 1   text           5442 non-null   object\n",
      " 2   selected_text  5442 non-null   object\n",
      " 3   sentiment      5443 non-null   object\n",
      "dtypes: object(4)\n",
      "memory usage: 170.2+ KB\n"
     ]
    }
   ],
   "source": [
    "data.info()"
   ]
  },
  {
   "cell_type": "code",
   "execution_count": 6,
   "id": "9744d7e1",
   "metadata": {},
   "outputs": [
    {
     "data": {
      "text/plain": [
       "(5443, 4)"
      ]
     },
     "execution_count": 6,
     "metadata": {},
     "output_type": "execute_result"
    }
   ],
   "source": [
    "data.shape"
   ]
  },
  {
   "cell_type": "markdown",
   "id": "08323644",
   "metadata": {},
   "source": [
    "# Checking for null values"
   ]
  },
  {
   "cell_type": "code",
   "execution_count": 7,
   "id": "fb8ee5e7",
   "metadata": {},
   "outputs": [
    {
     "data": {
      "text/plain": [
       "textID           0\n",
       "text             1\n",
       "selected_text    1\n",
       "sentiment        0\n",
       "dtype: int64"
      ]
     },
     "execution_count": 7,
     "metadata": {},
     "output_type": "execute_result"
    }
   ],
   "source": [
    "data.isnull().sum()"
   ]
  },
  {
   "cell_type": "code",
   "execution_count": 8,
   "id": "5f275bfc",
   "metadata": {},
   "outputs": [],
   "source": [
    "data.dropna(inplace=True)"
   ]
  },
  {
   "cell_type": "code",
   "execution_count": 9,
   "id": "dfd33dc1",
   "metadata": {},
   "outputs": [
    {
     "data": {
      "text/plain": [
       "textID           0\n",
       "text             0\n",
       "selected_text    0\n",
       "sentiment        0\n",
       "dtype: int64"
      ]
     },
     "execution_count": 9,
     "metadata": {},
     "output_type": "execute_result"
    }
   ],
   "source": [
    "data.isnull().sum()"
   ]
  },
  {
   "cell_type": "markdown",
   "id": "d450eaca",
   "metadata": {},
   "source": [
    "# Checking for duplicates"
   ]
  },
  {
   "cell_type": "code",
   "execution_count": 10,
   "id": "5f19a036",
   "metadata": {},
   "outputs": [
    {
     "data": {
      "text/plain": [
       "0"
      ]
     },
     "execution_count": 10,
     "metadata": {},
     "output_type": "execute_result"
    }
   ],
   "source": [
    "data.duplicated().sum()"
   ]
  },
  {
   "cell_type": "markdown",
   "id": "921d0f3d",
   "metadata": {},
   "source": [
    "# Data Visualization"
   ]
  },
  {
   "cell_type": "code",
   "execution_count": 11,
   "id": "c7930eb8",
   "metadata": {},
   "outputs": [
    {
     "data": {
      "image/png": "[encoded data removed]",
      "text/plain": [
       "<Figure size 432x288 with 1 Axes>"
      ]
     },
     "metadata": {},
     "output_type": "display_data"
    }
   ],
   "source": [
    "dic = {'positive':0,'negative':0,'neutral':0}\n",
    "for i in data['sentiment']:\n",
    "    dic[i] = dic[i] + 1\n",
    "plt.title('Sentiments')\n",
    "plt.pie(dic.values(),labels=dic.keys(),autopct='%1.1f%%')\n",
    "plt.show()"
   ]
  },
  {
   "cell_type": "markdown",
   "id": "8d4d6bfb",
   "metadata": {},
   "source": [
    "# Data Preprocessing"
   ]
  },
  {
   "cell_type": "code",
   "execution_count": 12,
   "id": "fc9a9d16",
   "metadata": {},
   "outputs": [
    {
     "name": "stderr",
     "output_type": "stream",
     "text": [
      "C:\\Users\\posah\\anacondap\\lib\\site-packages\\scipy\\__init__.py:146: UserWarning: A NumPy version >=1.16.5 and <1.23.0 is required for this version of SciPy (detected version 1.26.0\n",
      "  warnings.warn(f\"A NumPy version >={np_minversion} and <{np_maxversion}\"\n"
     ]
    }
   ],
   "source": [
    "import re\n",
    "from nltk import word_tokenize\n",
    "from nltk.stem import WordNetLemmatizer\n",
    "from nltk.corpus import stopwords"
   ]
  },
  {
   "cell_type": "code",
   "execution_count": 13,
   "id": "8ed60a16",
   "metadata": {},
   "outputs": [],
   "source": [
    "lm = WordNetLemmatizer()\n",
    "sw = stopwords.words('english')"
   ]
  },
  {
   "cell_type": "code",
   "execution_count": 14,
   "id": "94532eb6",
   "metadata": {},
   "outputs": [],
   "source": [
    "def pre_processing(tweets):\n",
    "    processed_tweets = []\n",
    "    for i in tweets:\n",
    "        p = re.sub(r'http\\S+|www\\S+|@\\w+', ' ', i)      #removing links and mentions\n",
    "        p = re.sub(r'[^A-Za-z]',' ',p)                  #removing special characters and numbers\n",
    "        p = p.lower()                                   #lowercasing\n",
    "        p = word_tokenize(p)                            #tokenization\n",
    "        p = [i for i in p if i not in sw]               #removing stopwords\n",
    "        p = [lm.lemmatize(i) for i in p]                #lemmatization\n",
    "        p = ' '.join(p)\n",
    "        processed_tweets.append(p)\n",
    "    return processed_tweets"
   ]
  },
  {
   "cell_type": "code",
   "execution_count": 15,
   "id": "68795773",
   "metadata": {},
   "outputs": [
    {
     "name": "stdout",
     "output_type": "stream",
     "text": [
      "Twitter Tweets Pre-processing Done\n"
     ]
    }
   ],
   "source": [
    "pro_tweet = pre_processing(data['text'])\n",
    "print(\"Twitter Tweets Pre-processing Done\")"
   ]
  },
  {
   "cell_type": "code",
   "execution_count": 16,
   "id": "a67d3c24",
   "metadata": {},
   "outputs": [],
   "source": [
    "emotion_float = []\n",
    "for i in data['sentiment']:\n",
    "    if i == 'positive':\n",
    "        emotion_float.append(1.0)\n",
    "    elif i=='negative':\n",
    "        emotion_float.append(0.0)\n",
    "    else:\n",
    "        emotion_float.append(2.0)\n",
    "data['sentiment_float'] = emotion_float"
   ]
  },
  {
   "cell_type": "markdown",
   "id": "924c2eb8",
   "metadata": {},
   "source": [
    "# Transforming the words into vectors using tf-idf"
   ]
  },
  {
   "cell_type": "code",
   "execution_count": 17,
   "id": "3f51eedf",
   "metadata": {},
   "outputs": [],
   "source": [
    "from sklearn.feature_extraction.text import TfidfVectorizer"
   ]
  },
  {
   "cell_type": "code",
   "execution_count": 18,
   "id": "576d4c6d",
   "metadata": {},
   "outputs": [
    {
     "name": "stdout",
     "output_type": "stream",
     "text": [
      "[[0. 0. 0. ... 0. 0. 0.]\n",
      " [0. 0. 0. ... 0. 0. 0.]\n",
      " [0. 0. 0. ... 0. 0. 0.]\n",
      " ...\n",
      " [0. 0. 0. ... 0. 0. 0.]\n",
      " [0. 0. 0. ... 0. 0. 0.]\n",
      " [0. 0. 0. ... 0. 0. 0.]]\n"
     ]
    }
   ],
   "source": [
    "tf_idf = TfidfVectorizer()\n",
    "features = tf_idf.fit_transform(pro_tweet).toarray()\n",
    "print(features)"
   ]
  },
  {
   "cell_type": "markdown",
   "id": "5523a295",
   "metadata": {},
   "source": [
    "# X & Y array"
   ]
  },
  {
   "cell_type": "code",
   "execution_count": 19,
   "id": "f9d5e363",
   "metadata": {},
   "outputs": [
    {
     "name": "stdout",
     "output_type": "stream",
     "text": [
      "(5442, 8102) (5442,)\n",
      "<class 'numpy.ndarray'> <class 'pandas.core.series.Series'>\n"
     ]
    }
   ],
   "source": [
    "x = features\n",
    "y = data.iloc[:,-1]\n",
    "print(x.shape,y.shape)\n",
    "print(type(x),type(y))"
   ]
  },
  {
   "cell_type": "markdown",
   "id": "c4f50080",
   "metadata": {},
   "source": [
    "# MODI SPLITING DATA INTO TRAINING AND TESTING"
   ]
  },
  {
   "cell_type": "code",
   "execution_count": 20,
   "id": "298f0be9",
   "metadata": {},
   "outputs": [
    {
     "name": "stdout",
     "output_type": "stream",
     "text": [
      "(4081, 8102)\n",
      "(1361, 8102)\n",
      "(4081,)\n",
      "(1361,)\n"
     ]
    }
   ],
   "source": [
    "from sklearn.model_selection import train_test_split\n",
    "x_train,x_test,y_train,y_test = train_test_split(x,y,test_size=0.25,random_state=42)\n",
    "print(x_train.shape)\n",
    "print(x_test.shape)\n",
    "print(y_train.shape)\n",
    "print(y_test.shape)"
   ]
  },
  {
   "cell_type": "code",
   "execution_count": 21,
   "id": "2859b3d8",
   "metadata": {},
   "outputs": [
    {
     "data": {
      "text/plain": [
       "array([[0., 0., 0., ..., 0., 0., 0.],\n",
       "       [0., 0., 0., ..., 0., 0., 0.],\n",
       "       [0., 0., 0., ..., 0., 0., 0.],\n",
       "       ...,\n",
       "       [0., 0., 0., ..., 0., 0., 0.],\n",
       "       [0., 0., 0., ..., 0., 0., 0.],\n",
       "       [0., 0., 0., ..., 0., 0., 0.]])"
      ]
     },
     "execution_count": 21,
     "metadata": {},
     "output_type": "execute_result"
    }
   ],
   "source": [
    "x"
   ]
  },
  {
   "cell_type": "code",
   "execution_count": 22,
   "id": "cb26eabc",
   "metadata": {},
   "outputs": [
    {
     "data": {
      "text/plain": [
       "0       2.0\n",
       "1       0.0\n",
       "2       0.0\n",
       "3       0.0\n",
       "4       0.0\n",
       "       ... \n",
       "5438    1.0\n",
       "5439    2.0\n",
       "5440    1.0\n",
       "5441    2.0\n",
       "5442    2.0\n",
       "Name: sentiment_float, Length: 5442, dtype: float64"
      ]
     },
     "execution_count": 22,
     "metadata": {},
     "output_type": "execute_result"
    }
   ],
   "source": [
    "y"
   ]
  },
  {
   "cell_type": "markdown",
   "id": "934db2a3",
   "metadata": {},
   "source": [
    "# MODEL TRAINING"
   ]
  },
  {
   "cell_type": "markdown",
   "id": "515cb39f",
   "metadata": {},
   "source": [
    "## MODI"
   ]
  },
  {
   "cell_type": "markdown",
   "id": "5bde6795",
   "metadata": {},
   "source": [
    "1. `Multinomial Naive Bayes`"
   ]
  },
  {
   "cell_type": "code",
   "execution_count": 23,
   "id": "7111086c",
   "metadata": {},
   "outputs": [],
   "source": [
    "from sklearn.naive_bayes import MultinomialNB"
   ]
  },
  {
   "cell_type": "code",
   "execution_count": 24,
   "id": "5a3797d7",
   "metadata": {},
   "outputs": [
    {
     "data": {
      "text/plain": [
       "MultinomialNB()"
      ]
     },
     "execution_count": 24,
     "metadata": {},
     "output_type": "execute_result"
    }
   ],
   "source": [
    "mnb = MultinomialNB()\n",
    "mnb.fit(x_train,y_train)"
   ]
  },
  {
   "cell_type": "code",
   "execution_count": 25,
   "id": "9b315ec2",
   "metadata": {},
   "outputs": [
    {
     "data": {
      "text/plain": [
       "array([2., 2., 2., ..., 2., 2., 2.])"
      ]
     },
     "execution_count": 25,
     "metadata": {},
     "output_type": "execute_result"
    }
   ],
   "source": [
    "mnb_pred = mnb.predict(x_test)\n",
    "mnb_pred"
   ]
  },
  {
   "cell_type": "code",
   "execution_count": 26,
   "id": "a6ecdfb9",
   "metadata": {},
   "outputs": [
    {
     "name": "stdout",
     "output_type": "stream",
     "text": [
      "Training Score :  0.8434207302131831\n",
      "Testing Score  :  0.5892725936811168\n"
     ]
    }
   ],
   "source": [
    "print('Training Score : ',mnb.score(x_train,y_train))\n",
    "print('Testing Score  : ',mnb.score(x_test,y_test))"
   ]
  },
  {
   "cell_type": "code",
   "execution_count": 27,
   "id": "7c2e16de",
   "metadata": {},
   "outputs": [],
   "source": [
    "from sklearn.metrics import precision_score, recall_score, f1_score, accuracy_score"
   ]
  },
  {
   "cell_type": "code",
   "execution_count": 28,
   "id": "9308a5ec",
   "metadata": {},
   "outputs": [
    {
     "name": "stdout",
     "output_type": "stream",
     "text": [
      "Accuracy by MNB  :  0.5892725936811168\n",
      "Precision by MNB :  0.6621758294003751\n",
      "Recall by MNB    :  0.5573607722568169\n",
      "F1 score by MNB  :  0.5571878832270701\n"
     ]
    }
   ],
   "source": [
    "mnb_acc = accuracy_score(y_test,mnb_pred)\n",
    "mnb_pr  = precision_score(y_test,mnb_pred,average='macro')\n",
    "mnb_rec = recall_score(y_test,mnb_pred,average='macro')\n",
    "mnb_f1  = f1_score(y_test,mnb_pred,average='macro')\n",
    "print('Accuracy by MNB  : ', mnb_acc)\n",
    "print('Precision by MNB : ', mnb_pr)\n",
    "print('Recall by MNB    : ', mnb_rec)\n",
    "print('F1 score by MNB  : ', mnb_f1)"
   ]
  },
  {
   "cell_type": "code",
   "execution_count": 29,
   "id": "ab774b53",
   "metadata": {},
   "outputs": [],
   "source": [
    "from sklearn.metrics import classification_report, confusion_matrix"
   ]
  },
  {
   "cell_type": "code",
   "execution_count": 30,
   "id": "496fcb8a",
   "metadata": {},
   "outputs": [
    {
     "name": "stdout",
     "output_type": "stream",
     "text": [
      "[[101  25 251]\n",
      " [  7 266 167]\n",
      " [ 23  86 435]]\n",
      "              precision    recall  f1-score   support\n",
      "\n",
      "         0.0       0.77      0.27      0.40       377\n",
      "         1.0       0.71      0.60      0.65       440\n",
      "         2.0       0.51      0.80      0.62       544\n",
      "\n",
      "    accuracy                           0.59      1361\n",
      "   macro avg       0.66      0.56      0.56      1361\n",
      "weighted avg       0.65      0.59      0.57      1361\n",
      "\n"
     ]
    }
   ],
   "source": [
    "print(confusion_matrix(y_test,mnb_pred))\n",
    "print(classification_report(y_test,mnb_pred))"
   ]
  },
  {
   "cell_type": "markdown",
   "id": "f02597ba",
   "metadata": {},
   "source": [
    "2. `Gaussian Navies Bayes`"
   ]
  },
  {
   "cell_type": "code",
   "execution_count": 31,
   "id": "98e74ab6",
   "metadata": {},
   "outputs": [],
   "source": [
    "from sklearn.naive_bayes import GaussianNB"
   ]
  },
  {
   "cell_type": "code",
   "execution_count": 32,
   "id": "503ea4d7",
   "metadata": {},
   "outputs": [
    {
     "data": {
      "text/plain": [
       "GaussianNB()"
      ]
     },
     "execution_count": 32,
     "metadata": {},
     "output_type": "execute_result"
    }
   ],
   "source": [
    "gnb = GaussianNB()\n",
    "gnb.fit(x_train,y_train)"
   ]
  },
  {
   "cell_type": "code",
   "execution_count": 33,
   "id": "d4787446",
   "metadata": {},
   "outputs": [
    {
     "data": {
      "text/plain": [
       "array([0., 2., 2., ..., 2., 2., 2.])"
      ]
     },
     "execution_count": 33,
     "metadata": {},
     "output_type": "execute_result"
    }
   ],
   "source": [
    "gnb_pred = gnb.predict(x_test)\n",
    "gnb_pred"
   ]
  },
  {
   "cell_type": "code",
   "execution_count": 34,
   "id": "4c5ac4cf",
   "metadata": {},
   "outputs": [
    {
     "name": "stdout",
     "output_type": "stream",
     "text": [
      "Training Score :  0.8321489830923793\n",
      "Testing Score  :  0.3894195444526084\n"
     ]
    }
   ],
   "source": [
    "print(\"Training Score : \",gnb.score(x_train,y_train))\n",
    "print(\"Testing Score  : \",gnb.score(x_test,y_test))"
   ]
  },
  {
   "cell_type": "code",
   "execution_count": 35,
   "id": "09b4f73e",
   "metadata": {},
   "outputs": [
    {
     "name": "stdout",
     "output_type": "stream",
     "text": [
      "Accuracy by gnb  :  0.3894195444526084\n",
      "Precision by gnb :  0.40151290211696655\n",
      "Recall by gnb    :  0.41124454483987954\n",
      "F1 score by gnb  :  0.3876467131446976\n"
     ]
    }
   ],
   "source": [
    "gnb_acc = accuracy_score(y_test,gnb_pred)\n",
    "gnb_pr  = precision_score(y_test,gnb_pred,average='macro')\n",
    "gnb_rec = recall_score(y_test,gnb_pred,average='macro')\n",
    "gnb_f1  = f1_score(y_test,gnb_pred,average='macro')\n",
    "print('Accuracy by gnb  : ', gnb_acc)\n",
    "print('Precision by gnb : ', gnb_pr)\n",
    "print('Recall by gnb    : ', gnb_rec)\n",
    "print('F1 score by gnb  : ', gnb_f1)"
   ]
  },
  {
   "cell_type": "code",
   "execution_count": 36,
   "id": "adfc92cf",
   "metadata": {},
   "outputs": [
    {
     "name": "stdout",
     "output_type": "stream",
     "text": [
      "[[221  69  87]\n",
      " [150 183 107]\n",
      " [283 135 126]]\n",
      "              precision    recall  f1-score   support\n",
      "\n",
      "         0.0       0.34      0.59      0.43       377\n",
      "         1.0       0.47      0.42      0.44       440\n",
      "         2.0       0.39      0.23      0.29       544\n",
      "\n",
      "    accuracy                           0.39      1361\n",
      "   macro avg       0.40      0.41      0.39      1361\n",
      "weighted avg       0.40      0.39      0.38      1361\n",
      "\n"
     ]
    }
   ],
   "source": [
    "print(confusion_matrix(y_test,gnb_pred))\n",
    "print(classification_report(y_test,gnb_pred))"
   ]
  },
  {
   "cell_type": "markdown",
   "id": "32c2573f",
   "metadata": {},
   "source": [
    "3. `Logistic Regression`"
   ]
  },
  {
   "cell_type": "code",
   "execution_count": 37,
   "id": "4307b559",
   "metadata": {},
   "outputs": [],
   "source": [
    "from sklearn.linear_model import LogisticRegression"
   ]
  },
  {
   "cell_type": "code",
   "execution_count": 38,
   "id": "0897465d",
   "metadata": {},
   "outputs": [
    {
     "data": {
      "text/plain": [
       "LogisticRegression()"
      ]
     },
     "execution_count": 38,
     "metadata": {},
     "output_type": "execute_result"
    }
   ],
   "source": [
    "lr = LogisticRegression()\n",
    "lr.fit(x_train,y_train)"
   ]
  },
  {
   "cell_type": "code",
   "execution_count": 39,
   "id": "7de4c6ed",
   "metadata": {},
   "outputs": [
    {
     "data": {
      "text/plain": [
       "array([0., 1., 2., ..., 2., 2., 2.])"
      ]
     },
     "execution_count": 39,
     "metadata": {},
     "output_type": "execute_result"
    }
   ],
   "source": [
    "lr_pred = lr.predict(x_test)\n",
    "lr_pred"
   ]
  },
  {
   "cell_type": "code",
   "execution_count": 40,
   "id": "090db4ad",
   "metadata": {},
   "outputs": [
    {
     "name": "stdout",
     "output_type": "stream",
     "text": [
      "Training Score :  0.8772359715755942\n",
      "Testing Score  :  0.630418809698751\n"
     ]
    }
   ],
   "source": [
    "print(\"Training Score : \",lr.score(x_train,y_train))\n",
    "print(\"Testing Score  : \",lr.score(x_test,y_test))"
   ]
  },
  {
   "cell_type": "code",
   "execution_count": 41,
   "id": "7789dc21",
   "metadata": {},
   "outputs": [
    {
     "name": "stdout",
     "output_type": "stream",
     "text": [
      "Accuracy by lr  :  0.630418809698751\n",
      "Precision by lr :  0.6694441134365103\n",
      "Recall by lr    :  0.6078700584405453\n",
      "F1 score by lr  :  0.6171773425391031\n"
     ]
    }
   ],
   "source": [
    "lr_acc = accuracy_score(y_test,lr_pred)\n",
    "lr_pr  = precision_score(y_test,lr_pred,average='macro')\n",
    "lr_rec = recall_score(y_test,lr_pred,average='macro')\n",
    "lr_f1  = f1_score(y_test,lr_pred,average='macro')\n",
    "print('Accuracy by lr  : ', lr_acc)\n",
    "print('Precision by lr : ', lr_pr)\n",
    "print('Recall by lr    : ', lr_rec)\n",
    "print('F1 score by lr  : ', lr_f1)"
   ]
  },
  {
   "cell_type": "code",
   "execution_count": 42,
   "id": "135a7fd1",
   "metadata": {},
   "outputs": [
    {
     "name": "stdout",
     "output_type": "stream",
     "text": [
      "[[158  28 191]\n",
      " [ 16 271 153]\n",
      " [ 47  68 429]]\n",
      "              precision    recall  f1-score   support\n",
      "\n",
      "         0.0       0.71      0.42      0.53       377\n",
      "         1.0       0.74      0.62      0.67       440\n",
      "         2.0       0.55      0.79      0.65       544\n",
      "\n",
      "    accuracy                           0.63      1361\n",
      "   macro avg       0.67      0.61      0.62      1361\n",
      "weighted avg       0.66      0.63      0.62      1361\n",
      "\n"
     ]
    }
   ],
   "source": [
    "print(confusion_matrix(y_test,lr_pred))\n",
    "print(classification_report(y_test,lr_pred))"
   ]
  },
  {
   "cell_type": "markdown",
   "id": "9dd33973",
   "metadata": {},
   "source": [
    "4. `KNN`"
   ]
  },
  {
   "cell_type": "code",
   "execution_count": 43,
   "id": "828e72a1",
   "metadata": {},
   "outputs": [],
   "source": [
    "from sklearn.neighbors import KNeighborsClassifier"
   ]
  },
  {
   "cell_type": "code",
   "execution_count": 44,
   "id": "12ab73dd",
   "metadata": {},
   "outputs": [
    {
     "data": {
      "text/plain": [
       "KNeighborsClassifier(n_neighbors=9)"
      ]
     },
     "execution_count": 44,
     "metadata": {},
     "output_type": "execute_result"
    }
   ],
   "source": [
    "knn = KNeighborsClassifier(n_neighbors=9)\n",
    "knn.fit(x_train,y_train)"
   ]
  },
  {
   "cell_type": "code",
   "execution_count": 45,
   "id": "a99f6533",
   "metadata": {},
   "outputs": [
    {
     "data": {
      "text/plain": [
       "array([2., 2., 2., ..., 2., 2., 2.])"
      ]
     },
     "execution_count": 45,
     "metadata": {},
     "output_type": "execute_result"
    }
   ],
   "source": [
    "knn_pred = knn.predict(x_test)\n",
    "knn_pred"
   ]
  },
  {
   "cell_type": "code",
   "execution_count": 46,
   "id": "2a6173cf",
   "metadata": {},
   "outputs": [
    {
     "name": "stdout",
     "output_type": "stream",
     "text": [
      "Training Score :  0.43420730213183045\n",
      "Testing Score  :  0.42321822189566494\n"
     ]
    }
   ],
   "source": [
    "print(\"Training Score : \",knn.score(x_train,y_train))\n",
    "print(\"Testing Score  : \",knn.score(x_test,y_test))"
   ]
  },
  {
   "cell_type": "code",
   "execution_count": 47,
   "id": "dfc51528",
   "metadata": {},
   "outputs": [
    {
     "name": "stdout",
     "output_type": "stream",
     "text": [
      "Accuracy by knn  :  0.42321822189566494\n",
      "Precision by knn :  0.725004997525815\n",
      "Recall by knn    :  0.3589146654562476\n",
      "F1 score by knn  :  0.24572945538054025\n"
     ]
    }
   ],
   "source": [
    "knn_acc = accuracy_score(y_test,knn_pred)\n",
    "knn_pr  = precision_score(y_test,knn_pred,average='macro')\n",
    "knn_rec = recall_score(y_test,knn_pred,average='macro')\n",
    "knn_f1  = f1_score(y_test,knn_pred,average='macro')\n",
    "print('Accuracy by knn  : ', knn_acc)\n",
    "print('Precision by knn : ', knn_pr)\n",
    "print('Recall by knn    : ', knn_rec)\n",
    "print('F1 score by knn  : ', knn_f1)"
   ]
  },
  {
   "cell_type": "code",
   "execution_count": 48,
   "id": "f86adc16",
   "metadata": {},
   "outputs": [
    {
     "name": "stdout",
     "output_type": "stream",
     "text": [
      "[[  6   0 371]\n",
      " [  0  30 410]\n",
      " [  1   3 540]]\n",
      "              precision    recall  f1-score   support\n",
      "\n",
      "         0.0       0.86      0.02      0.03       377\n",
      "         1.0       0.91      0.07      0.13       440\n",
      "         2.0       0.41      0.99      0.58       544\n",
      "\n",
      "    accuracy                           0.42      1361\n",
      "   macro avg       0.73      0.36      0.25      1361\n",
      "weighted avg       0.69      0.42      0.28      1361\n",
      "\n"
     ]
    }
   ],
   "source": [
    "print(confusion_matrix(y_test,knn_pred))\n",
    "print(classification_report(y_test,knn_pred))"
   ]
  },
  {
   "cell_type": "markdown",
   "id": "8a237c48",
   "metadata": {},
   "source": [
    "5. `SVM`"
   ]
  },
  {
   "cell_type": "code",
   "execution_count": 49,
   "id": "99ce029a",
   "metadata": {},
   "outputs": [
    {
     "data": {
      "text/plain": [
       "SVC(kernel='linear', random_state=42)"
      ]
     },
     "execution_count": 49,
     "metadata": {},
     "output_type": "execute_result"
    }
   ],
   "source": [
    "from sklearn.svm import SVC\n",
    "svm = SVC(kernel='linear', C=1.0, random_state=42)\n",
    "svm.fit(x_train,y_train)"
   ]
  },
  {
   "cell_type": "code",
   "execution_count": 50,
   "id": "7d139764",
   "metadata": {},
   "outputs": [
    {
     "data": {
      "text/plain": [
       "array([0., 1., 2., ..., 2., 2., 1.])"
      ]
     },
     "execution_count": 50,
     "metadata": {},
     "output_type": "execute_result"
    }
   ],
   "source": [
    "svm_pred = svm.predict(x_test)\n",
    "svm_pred"
   ]
  },
  {
   "cell_type": "code",
   "execution_count": 51,
   "id": "721ed14a",
   "metadata": {},
   "outputs": [
    {
     "name": "stdout",
     "output_type": "stream",
     "text": [
      "Training Score :  0.8946336682185739\n",
      "Testing Score  :  0.6385011021307861\n"
     ]
    }
   ],
   "source": [
    "print(\"Training Score : \",svm.score(x_train,y_train))\n",
    "print(\"Testing Score  : \",svm.score(x_test,y_test))"
   ]
  },
  {
   "cell_type": "code",
   "execution_count": 52,
   "id": "767fe3e7",
   "metadata": {},
   "outputs": [
    {
     "name": "stdout",
     "output_type": "stream",
     "text": [
      "Accuracy by svm  :  0.6385011021307861\n",
      "Precision by svm :  0.6756128837887777\n",
      "Recall by svm    :  0.617179705858712\n",
      "F1 score by svm  :  0.6275224987480009\n"
     ]
    }
   ],
   "source": [
    "svm_acc = accuracy_score(y_test,svm_pred)\n",
    "svm_pr  = precision_score(y_test,svm_pred,average='macro')\n",
    "svm_rec = recall_score(y_test,svm_pred,average='macro')\n",
    "svm_f1  = f1_score(y_test,svm_pred,average='macro')\n",
    "print('Accuracy by svm  : ', svm_acc)\n",
    "print('Precision by svm : ', svm_pr)\n",
    "print('Recall by svm    : ', svm_rec)\n",
    "print('F1 score by svm  : ', svm_f1)"
   ]
  },
  {
   "cell_type": "code",
   "execution_count": 53,
   "id": "fe97ddfb",
   "metadata": {},
   "outputs": [
    {
     "name": "stdout",
     "output_type": "stream",
     "text": [
      "[[168  22 187]\n",
      " [ 20 270 150]\n",
      " [ 51  62 431]]\n",
      "              precision    recall  f1-score   support\n",
      "\n",
      "         0.0       0.70      0.45      0.55       377\n",
      "         1.0       0.76      0.61      0.68       440\n",
      "         2.0       0.56      0.79      0.66       544\n",
      "\n",
      "    accuracy                           0.64      1361\n",
      "   macro avg       0.68      0.62      0.63      1361\n",
      "weighted avg       0.67      0.64      0.63      1361\n",
      "\n"
     ]
    }
   ],
   "source": [
    "print(confusion_matrix(y_test,svm_pred))\n",
    "print(classification_report(y_test,svm_pred))"
   ]
  },
  {
   "cell_type": "markdown",
   "id": "44849a8e",
   "metadata": {},
   "source": [
    "6. `Decision Tree`"
   ]
  },
  {
   "cell_type": "code",
   "execution_count": 54,
   "id": "5cbcd44b",
   "metadata": {},
   "outputs": [
    {
     "data": {
      "text/plain": [
       "DecisionTreeClassifier()"
      ]
     },
     "execution_count": 54,
     "metadata": {},
     "output_type": "execute_result"
    }
   ],
   "source": [
    "from sklearn.tree import DecisionTreeClassifier\n",
    "dt = DecisionTreeClassifier()\n",
    "dt.fit(x_train,y_train)"
   ]
  },
  {
   "cell_type": "code",
   "execution_count": 55,
   "id": "4efedae8",
   "metadata": {},
   "outputs": [
    {
     "data": {
      "text/plain": [
       "array([0., 1., 2., ..., 1., 0., 1.])"
      ]
     },
     "execution_count": 55,
     "metadata": {},
     "output_type": "execute_result"
    }
   ],
   "source": [
    "dt_pred = dt.predict(x_test)\n",
    "dt_pred"
   ]
  },
  {
   "cell_type": "code",
   "execution_count": 56,
   "id": "d064c5be",
   "metadata": {},
   "outputs": [
    {
     "name": "stdout",
     "output_type": "stream",
     "text": [
      "Training Score :  0.9975496201911296\n",
      "Testing Score  :  0.6113152094048494\n"
     ]
    }
   ],
   "source": [
    "print(\"Training Score : \",dt.score(x_train,y_train))\n",
    "print(\"Testing Score  : \",dt.score(x_test,y_test))"
   ]
  },
  {
   "cell_type": "code",
   "execution_count": 57,
   "id": "6fee8bd2",
   "metadata": {},
   "outputs": [
    {
     "name": "stdout",
     "output_type": "stream",
     "text": [
      "Accuracy by dt  :  0.6113152094048494\n",
      "Precision by dt :  0.6116909622042515\n",
      "Recall by dt    :  0.609493456171955\n",
      "F1 score by dt  :  0.6096785947866044\n"
     ]
    }
   ],
   "source": [
    "dt_acc = accuracy_score(y_test,dt_pred)\n",
    "dt_pr  = precision_score(y_test,dt_pred,average='macro')\n",
    "dt_rec = recall_score(y_test,dt_pred,average='macro')\n",
    "dt_f1  = f1_score(y_test,dt_pred,average='macro')\n",
    "print('Accuracy by dt  : ', dt_acc)\n",
    "print('Precision by dt : ', dt_pr)\n",
    "print('Recall by dt    : ', dt_rec)\n",
    "print('F1 score by dt  : ', dt_f1)"
   ]
  },
  {
   "cell_type": "code",
   "execution_count": 58,
   "id": "ae2a63bf",
   "metadata": {},
   "outputs": [
    {
     "name": "stdout",
     "output_type": "stream",
     "text": [
      "[[204  47 126]\n",
      " [ 35 306  99]\n",
      " [ 99 123 322]]\n",
      "              precision    recall  f1-score   support\n",
      "\n",
      "         0.0       0.60      0.54      0.57       377\n",
      "         1.0       0.64      0.70      0.67       440\n",
      "         2.0       0.59      0.59      0.59       544\n",
      "\n",
      "    accuracy                           0.61      1361\n",
      "   macro avg       0.61      0.61      0.61      1361\n",
      "weighted avg       0.61      0.61      0.61      1361\n",
      "\n"
     ]
    }
   ],
   "source": [
    "print(confusion_matrix(y_test,dt_pred))\n",
    "print(classification_report(y_test,dt_pred))"
   ]
  },
  {
   "cell_type": "markdown",
   "id": "71024421",
   "metadata": {},
   "source": [
    "7. `Random Forest`"
   ]
  },
  {
   "cell_type": "code",
   "execution_count": 59,
   "id": "f2f80eda",
   "metadata": {},
   "outputs": [
    {
     "data": {
      "text/plain": [
       "RandomForestClassifier(random_state=42)"
      ]
     },
     "execution_count": 59,
     "metadata": {},
     "output_type": "execute_result"
    }
   ],
   "source": [
    "from sklearn.ensemble import RandomForestClassifier\n",
    "rf = RandomForestClassifier(n_estimators=100, random_state=42)\n",
    "rf.fit(x_train,y_train)"
   ]
  },
  {
   "cell_type": "code",
   "execution_count": 60,
   "id": "ee431b88",
   "metadata": {},
   "outputs": [
    {
     "data": {
      "text/plain": [
       "array([0., 1., 2., ..., 2., 2., 1.])"
      ]
     },
     "execution_count": 60,
     "metadata": {},
     "output_type": "execute_result"
    }
   ],
   "source": [
    "rf_pred = rf.predict(x_test)\n",
    "rf_pred"
   ]
  },
  {
   "cell_type": "code",
   "execution_count": 61,
   "id": "e15f0da1",
   "metadata": {},
   "outputs": [
    {
     "name": "stdout",
     "output_type": "stream",
     "text": [
      "Training Score :  0.9975496201911296\n",
      "Testing Score  :  0.633357825128582\n"
     ]
    }
   ],
   "source": [
    "print(\"Training Score : \",rf.score(x_train,y_train))\n",
    "print(\"Testing Score  : \",rf.score(x_test,y_test))"
   ]
  },
  {
   "cell_type": "code",
   "execution_count": 62,
   "id": "7b79a3a5",
   "metadata": {},
   "outputs": [
    {
     "name": "stdout",
     "output_type": "stream",
     "text": [
      "Accuracy by rf  :  0.633357825128582\n",
      "Precision by rf :  0.6713199434629332\n",
      "Recall by rf    :  0.6119688754450417\n",
      "F1 score by rf  :  0.6206513345351109\n"
     ]
    }
   ],
   "source": [
    "rf_acc = accuracy_score(y_test,rf_pred)\n",
    "rf_pr  = precision_score(y_test,rf_pred,average='macro')\n",
    "rf_rec = recall_score(y_test,rf_pred,average='macro')\n",
    "rf_f1  = f1_score(y_test,rf_pred,average='macro')\n",
    "print('Accuracy by rf  : ', rf_acc)\n",
    "print('Precision by rf : ', rf_pr)\n",
    "print('Recall by rf    : ', rf_rec)\n",
    "print('F1 score by rf  : ', rf_f1)\n"
   ]
  },
  {
   "cell_type": "code",
   "execution_count": 63,
   "id": "17a65717",
   "metadata": {},
   "outputs": [
    {
     "name": "stdout",
     "output_type": "stream",
     "text": [
      "[[155  27 195]\n",
      " [ 11 288 141]\n",
      " [ 48  77 419]]\n",
      "              precision    recall  f1-score   support\n",
      "\n",
      "         0.0       0.72      0.41      0.52       377\n",
      "         1.0       0.73      0.65      0.69       440\n",
      "         2.0       0.55      0.77      0.65       544\n",
      "\n",
      "    accuracy                           0.63      1361\n",
      "   macro avg       0.67      0.61      0.62      1361\n",
      "weighted avg       0.66      0.63      0.63      1361\n",
      "\n"
     ]
    }
   ],
   "source": [
    "print(confusion_matrix(y_test,rf_pred))\n",
    "print(classification_report(y_test,rf_pred))"
   ]
  },
  {
   "cell_type": "markdown",
   "id": "070d8e07",
   "metadata": {},
   "source": [
    "# Model Selection"
   ]
  },
  {
   "cell_type": "code",
   "execution_count": 64,
   "id": "7d4f4c47",
   "metadata": {},
   "outputs": [
    {
     "data": {
      "text/html": [
       "<div>\n",
       "<style scoped>\n",
       "    .dataframe tbody tr th:only-of-type {\n",
       "        vertical-align: middle;\n",
       "    }\n",
       "\n",
       "    .dataframe tbody tr th {\n",
       "        vertical-align: top;\n",
       "    }\n",
       "\n",
       "    .dataframe thead th {\n",
       "        text-align: right;\n",
       "    }\n",
       "</style>\n",
       "<table border=\"1\" class=\"dataframe\">\n",
       "  <thead>\n",
       "    <tr style=\"text-align: right;\">\n",
       "      <th></th>\n",
       "      <th>Accuracy</th>\n",
       "      <th>Precision (mean)</th>\n",
       "      <th>Recall (mean)</th>\n",
       "      <th>F1-Score (mean)</th>\n",
       "    </tr>\n",
       "  </thead>\n",
       "  <tbody>\n",
       "    <tr>\n",
       "      <th>Multinomial Navies Bayes</th>\n",
       "      <td>0.589273</td>\n",
       "      <td>0.662176</td>\n",
       "      <td>0.557361</td>\n",
       "      <td>0.557188</td>\n",
       "    </tr>\n",
       "    <tr>\n",
       "      <th>Gaussian Navies Bayes</th>\n",
       "      <td>0.389420</td>\n",
       "      <td>0.401513</td>\n",
       "      <td>0.411245</td>\n",
       "      <td>0.387647</td>\n",
       "    </tr>\n",
       "    <tr>\n",
       "      <th>Logistic Regression</th>\n",
       "      <td>0.630419</td>\n",
       "      <td>0.669444</td>\n",
       "      <td>0.607870</td>\n",
       "      <td>0.617177</td>\n",
       "    </tr>\n",
       "    <tr>\n",
       "      <th>K-NearestNeighbors</th>\n",
       "      <td>0.423218</td>\n",
       "      <td>0.725005</td>\n",
       "      <td>0.358915</td>\n",
       "      <td>0.245729</td>\n",
       "    </tr>\n",
       "    <tr>\n",
       "      <th>Support Vector Machine</th>\n",
       "      <td>0.638501</td>\n",
       "      <td>0.675613</td>\n",
       "      <td>0.617180</td>\n",
       "      <td>0.627522</td>\n",
       "    </tr>\n",
       "    <tr>\n",
       "      <th>Decision Tree</th>\n",
       "      <td>0.611315</td>\n",
       "      <td>0.611691</td>\n",
       "      <td>0.609493</td>\n",
       "      <td>0.609679</td>\n",
       "    </tr>\n",
       "    <tr>\n",
       "      <th>Random Forest</th>\n",
       "      <td>0.633358</td>\n",
       "      <td>0.671320</td>\n",
       "      <td>0.611969</td>\n",
       "      <td>0.620651</td>\n",
       "    </tr>\n",
       "  </tbody>\n",
       "</table>\n",
       "</div>"
      ],
      "text/plain": [
       "                          Accuracy  Precision (mean)  Recall (mean)  \\\n",
       "Multinomial Navies Bayes  0.589273          0.662176       0.557361   \n",
       "Gaussian Navies Bayes     0.389420          0.401513       0.411245   \n",
       "Logistic Regression       0.630419          0.669444       0.607870   \n",
       "K-NearestNeighbors        0.423218          0.725005       0.358915   \n",
       "Support Vector Machine    0.638501          0.675613       0.617180   \n",
       "Decision Tree             0.611315          0.611691       0.609493   \n",
       "Random Forest             0.633358          0.671320       0.611969   \n",
       "\n",
       "                          F1-Score (mean)  \n",
       "Multinomial Navies Bayes         0.557188  \n",
       "Gaussian Navies Bayes            0.387647  \n",
       "Logistic Regression              0.617177  \n",
       "K-NearestNeighbors               0.245729  \n",
       "Support Vector Machine           0.627522  \n",
       "Decision Tree                    0.609679  \n",
       "Random Forest                    0.620651  "
      ]
     },
     "execution_count": 64,
     "metadata": {},
     "output_type": "execute_result"
    }
   ],
   "source": [
    "x1 = {'Accuracy':[mnb_acc,gnb_acc,lr_acc,knn_acc,svm_acc,dt_acc,rf_acc],\n",
    "      'Precision (mean)':[mnb_pr,gnb_pr,lr_pr,knn_pr,svm_pr,dt_pr,rf_pr],\n",
    "      'Recall (mean)':[mnb_rec,gnb_rec,lr_rec,knn_rec,svm_rec,dt_rec,rf_rec],\n",
    "      'F1-Score (mean)':[mnb_f1,gnb_f1,lr_f1,knn_f1,svm_f1,dt_f1,rf_f1]}\n",
    "x2 = ['Multinomial Navies Bayes','Gaussian Navies Bayes','Logistic Regression',\n",
    "           'K-NearestNeighbors','Support Vector Machine','Decision Tree','Random Forest']\n",
    "df = pd.DataFrame(x1,x2)\n",
    "df"
   ]
  },
  {
   "cell_type": "code",
   "execution_count": 65,
   "id": "e02f8a52",
   "metadata": {},
   "outputs": [
    {
     "data": {
      "image/png": "[encoded data removed]",
      "text/plain": [
       "<Figure size 432x288 with 1 Axes>"
      ]
     },
     "metadata": {
      "needs_background": "light"
     },
     "output_type": "display_data"
    }
   ],
   "source": [
    "plt.bar(x=['MNB','GNB','LR','KNN','SVM','DT','RF'],\n",
    "        height=[mnb_acc,gnb_acc,lr_acc,knn_acc,\n",
    "                svm_acc,dt_acc,rf_acc])\n",
    "plt.xlabel(\"Algorithm\")\n",
    "plt.ylabel(\"ACCURACY\")\n",
    "plt.grid()\n",
    "plt.show()"
   ]
  },
  {
   "cell_type": "markdown",
   "id": "8cd9595c",
   "metadata": {},
   "source": [
    "# TESTING"
   ]
  },
  {
   "cell_type": "code",
   "execution_count": 66,
   "id": "19cdaf58",
   "metadata": {},
   "outputs": [],
   "source": [
    "data_test = pd.read_csv(r\"C:\\Users\\posah\\Desktop\\TRESURE\\PROJECT DATA SCIENCE\\lavs\\testTweets.csv\")"
   ]
  },
  {
   "cell_type": "code",
   "execution_count": 67,
   "id": "35223313",
   "metadata": {},
   "outputs": [
    {
     "data": {
      "text/html": [
       "<div>\n",
       "<style scoped>\n",
       "    .dataframe tbody tr th:only-of-type {\n",
       "        vertical-align: middle;\n",
       "    }\n",
       "\n",
       "    .dataframe tbody tr th {\n",
       "        vertical-align: top;\n",
       "    }\n",
       "\n",
       "    .dataframe thead th {\n",
       "        text-align: right;\n",
       "    }\n",
       "</style>\n",
       "<table border=\"1\" class=\"dataframe\">\n",
       "  <thead>\n",
       "    <tr style=\"text-align: right;\">\n",
       "      <th></th>\n",
       "      <th>Unnamed: 0</th>\n",
       "      <th>textID</th>\n",
       "      <th>text</th>\n",
       "      <th>selected_text</th>\n",
       "    </tr>\n",
       "  </thead>\n",
       "  <tbody>\n",
       "    <tr>\n",
       "      <th>0</th>\n",
       "      <td>0</td>\n",
       "      <td>d60596aed5</td>\n",
       "      <td>any chance of seeing you at a race in germany...</td>\n",
       "      <td>unfortunately</td>\n",
       "    </tr>\n",
       "    <tr>\n",
       "      <th>1</th>\n",
       "      <td>1</td>\n",
       "      <td>7812276995</td>\n",
       "      <td>Nite Tweeple.  Tomorrow will be day 25 at work.</td>\n",
       "      <td>Nite Tweeple.  Tomorrow will be day 25 at work.</td>\n",
       "    </tr>\n",
       "    <tr>\n",
       "      <th>2</th>\n",
       "      <td>2</td>\n",
       "      <td>167052ea96</td>\n",
       "      <td>oh no not difficult. It`s just nuts that`s ho...</td>\n",
       "      <td>oh no not difficult.</td>\n",
       "    </tr>\n",
       "    <tr>\n",
       "      <th>3</th>\n",
       "      <td>3</td>\n",
       "      <td>3fa34fee4a</td>\n",
       "      <td>we will work on that mama  sweetdreams!</td>\n",
       "      <td>we will work on that mama  sweetdreams!</td>\n",
       "    </tr>\n",
       "    <tr>\n",
       "      <th>4</th>\n",
       "      <td>4</td>\n",
       "      <td>9bf41d3d1d</td>\n",
       "      <td>Ugh i hate photobucket! an amazing place to ed...</td>\n",
       "      <td>Ugh</td>\n",
       "    </tr>\n",
       "  </tbody>\n",
       "</table>\n",
       "</div>"
      ],
      "text/plain": [
       "   Unnamed: 0      textID                                               text  \\\n",
       "0           0  d60596aed5   any chance of seeing you at a race in germany...   \n",
       "1           1  7812276995    Nite Tweeple.  Tomorrow will be day 25 at work.   \n",
       "2           2  167052ea96   oh no not difficult. It`s just nuts that`s ho...   \n",
       "3           3  3fa34fee4a            we will work on that mama  sweetdreams!   \n",
       "4           4  9bf41d3d1d  Ugh i hate photobucket! an amazing place to ed...   \n",
       "\n",
       "                                     selected_text  \n",
       "0                                    unfortunately  \n",
       "1  Nite Tweeple.  Tomorrow will be day 25 at work.  \n",
       "2                             oh no not difficult.  \n",
       "3          we will work on that mama  sweetdreams!  \n",
       "4                                              Ugh  "
      ]
     },
     "execution_count": 67,
     "metadata": {},
     "output_type": "execute_result"
    }
   ],
   "source": [
    "data_test.head()"
   ]
  },
  {
   "cell_type": "code",
   "execution_count": 68,
   "id": "9fefab87",
   "metadata": {},
   "outputs": [
    {
     "data": {
      "text/plain": [
       "Unnamed: 0       0\n",
       "textID           0\n",
       "text             0\n",
       "selected_text    0\n",
       "dtype: int64"
      ]
     },
     "execution_count": 68,
     "metadata": {},
     "output_type": "execute_result"
    }
   ],
   "source": [
    "data_test.isnull().sum()"
   ]
  },
  {
   "cell_type": "code",
   "execution_count": 69,
   "id": "8ee92668",
   "metadata": {},
   "outputs": [
    {
     "data": {
      "text/plain": [
       "0"
      ]
     },
     "execution_count": 69,
     "metadata": {},
     "output_type": "execute_result"
    }
   ],
   "source": [
    "data_test.duplicated().sum()"
   ]
  },
  {
   "cell_type": "code",
   "execution_count": 70,
   "id": "d30a1c47",
   "metadata": {},
   "outputs": [],
   "source": [
    "def pre_processing(tweets):\n",
    "    processed_tweets = []\n",
    "    for i in tweets:\n",
    "        p = re.sub(r'http\\S+|www\\S+|@\\w+', ' ', i)      #removing links and mentions\n",
    "        p = re.sub(r'[^A-Za-z]',' ',p)                  #removing special characters and numbers\n",
    "        p = p.lower()                                   #lowercasing\n",
    "        p = word_tokenize(p)                            #tokenization\n",
    "        p = [i for i in p if i not in sw]               #removing stopwords\n",
    "        p = [lm.lemmatize(i) for i in p]                #lemmatization\n",
    "        p = ' '.join(p)\n",
    "        processed_tweets.append(p)\n",
    "    return processed_tweets"
   ]
  },
  {
   "cell_type": "code",
   "execution_count": 71,
   "id": "40d2c676",
   "metadata": {},
   "outputs": [],
   "source": [
    "pre_tweets = pre_processing(data_test['text'])"
   ]
  },
  {
   "cell_type": "code",
   "execution_count": 72,
   "id": "7e4c4d74",
   "metadata": {},
   "outputs": [
    {
     "name": "stdout",
     "output_type": "stream",
     "text": [
      "[[0. 0. 0. ... 0. 0. 0.]\n",
      " [0. 0. 0. ... 0. 0. 0.]\n",
      " [0. 0. 0. ... 0. 0. 0.]\n",
      " ...\n",
      " [0. 0. 0. ... 0. 0. 0.]\n",
      " [0. 0. 0. ... 0. 0. 0.]\n",
      " [0. 0. 0. ... 0. 0. 0.]]\n"
     ]
    }
   ],
   "source": [
    "tf_idf = TfidfVectorizer()\n",
    "test_features = tf_idf.fit_transform(pre_tweets).toarray()\n",
    "print(test_features)"
   ]
  },
  {
   "cell_type": "code",
   "execution_count": 73,
   "id": "54efa590",
   "metadata": {},
   "outputs": [],
   "source": [
    "import numpy as np"
   ]
  },
  {
   "cell_type": "code",
   "execution_count": 74,
   "id": "e2081562",
   "metadata": {},
   "outputs": [
    {
     "data": {
      "text/plain": [
       "array([[0., 0., 0., ..., 0., 0., 0.],\n",
       "       [0., 0., 0., ..., 0., 0., 0.],\n",
       "       [0., 0., 0., ..., 0., 0., 0.],\n",
       "       ...,\n",
       "       [0., 0., 0., ..., 0., 0., 0.],\n",
       "       [0., 0., 0., ..., 0., 0., 0.],\n",
       "       [0., 0., 0., ..., 0., 0., 0.]])"
      ]
     },
     "execution_count": 74,
     "metadata": {},
     "output_type": "execute_result"
    }
   ],
   "source": [
    "le = features[0].shape\n",
    "ret = np.empty((0,le[0]), float)\n",
    "for i in test_features:\n",
    "    zeros_array = np.zeros(le[0] - test_features[0].shape[0])\n",
    "    lolo = np.concatenate((i, zeros_array))\n",
    "    ret = np.vstack((ret, lolo))\n",
    "ret"
   ]
  },
  {
   "cell_type": "code",
   "execution_count": 75,
   "id": "ddc9498b",
   "metadata": {},
   "outputs": [
    {
     "data": {
      "text/plain": [
       "(723, 8102)"
      ]
     },
     "execution_count": 75,
     "metadata": {},
     "output_type": "execute_result"
    }
   ],
   "source": [
    "ret.shape"
   ]
  },
  {
   "cell_type": "code",
   "execution_count": 76,
   "id": "a16285cb",
   "metadata": {},
   "outputs": [],
   "source": [
    "pred = svm.predict(ret)"
   ]
  },
  {
   "cell_type": "code",
   "execution_count": 77,
   "id": "fd51b4ea",
   "metadata": {},
   "outputs": [],
   "source": [
    "res = []\n",
    "for i in pred:\n",
    "    if i==0.0:\n",
    "        res.append('negative')\n",
    "    elif i==1.0:\n",
    "        res.append('positive')\n",
    "    else:\n",
    "        res.append('neutral')\n",
    "data_test['predicted_emotion'] = res"
   ]
  },
  {
   "cell_type": "code",
   "execution_count": 78,
   "id": "6695eb18",
   "metadata": {},
   "outputs": [],
   "source": [
    "data_test.to_csv(r\"C:\\Users\\posah\\Downloads\\twitterpredicted.csv\")"
   ]
  },
  {
   "cell_type": "code",
   "execution_count": 79,
   "id": "fb52576e",
   "metadata": {},
   "outputs": [],
   "source": [
    "def pred_tweet(tweet):\n",
    "    p = re.sub(r'http\\S+|www\\S+|@\\w+', ' ', tweet)      #removing links and mentions\n",
    "    p = re.sub(r'[^A-Za-z]',' ',p)                  #removing special characters and numbers\n",
    "    p = p.lower()                                   #lowercasing\n",
    "    p = word_tokenize(p)                            #tokenization\n",
    "    p = [i for i in p if i not in sw]               #removing stopwords\n",
    "    p = [lm.lemmatize(i) for i in p]                #lemmatization\n",
    "    p = ' '.join(p)\n",
    "    \n",
    "    test_features = tf_idf.fit_transform(pre_tweets).toarray()\n",
    "\n",
    "    ret = np.empty((0,le[0]), float)\n",
    "    for i in test_features:\n",
    "        zeros_array = np.zeros(le[0] - test_features[0].shape[0])\n",
    "        lolo = np.concatenate((i, zeros_array))\n",
    "        ret = np.vstack((ret, lolo))\n",
    "    \n",
    "    \n",
    "    pred = svm.predict(ret)\n",
    "    if pred[0]==0.0:\n",
    "        return 'negative'\n",
    "    elif pred[0]==2.0:\n",
    "        return 'neutral'\n",
    "    else:\n",
    "        return 'positive'"
   ]
  },
  {
   "cell_type": "code",
   "execution_count": 80,
   "id": "6ea8c26b",
   "metadata": {},
   "outputs": [
    {
     "name": "stdout",
     "output_type": "stream",
     "text": [
      "neutral\n"
     ]
    }
   ],
   "source": [
    "print(pred_tweet(\"as much as i love to be hopeful, i reckon the chances are minimal =P i`m never gonna get my cake and stuff\"))"
   ]
  },
  {
   "cell_type": "code",
   "execution_count": 82,
   "id": "3903582d",
   "metadata": {},
   "outputs": [
    {
     "name": "stdout",
     "output_type": "stream",
     "text": [
      "neutral\n"
     ]
    }
   ],
   "source": [
    "print(pred_tweet(\"HAPPY MOTHERS DAY.!\")) "
   ]
  },
  {
   "cell_type": "code",
   "execution_count": 89,
   "id": "bd074157",
   "metadata": {},
   "outputs": [
    {
     "data": {
      "image/png": "[encoded data removed]",
      "text/plain": [
       "<Figure size 432x288 with 1 Axes>"
      ]
     },
     "metadata": {},
     "output_type": "display_data"
    }
   ],
   "source": [
    "dic = {'positive':0,'negative':0,'neutral':0}\n",
    "for i in res:\n",
    "    dic[i] = dic[i] + 1\n",
    "plt.pie(dic.values(),labels=dic.keys(),autopct='%1.1f%%')\n",
    "plt.show()"
   ]
  },
  {
   "cell_type": "code",
   "execution_count": 92,
   "id": "316dc524",
   "metadata": {},
   "outputs": [
    {
     "name": "stdout",
     "output_type": "stream",
     "text": [
      "neutral\n"
     ]
    }
   ],
   "source": [
    "print(pred_tweet(\"i had a very good day\"))\n",
    "      "
   ]
  },
  {
   "cell_type": "code",
   "execution_count": null,
   "id": "ee0a0b89",
   "metadata": {},
   "outputs": [],
   "source": []
  }
 ],
 "metadata": {
  "kernelspec": {
   "display_name": "Python 3 (ipykernel)",
   "language": "python",
   "name": "python3"
  },
  "language_info": {
   "codemirror_mode": {
    "name": "ipython",
    "version": 3
   },
   "file_extension": ".py",
   "mimetype": "text/x-python",
   "name": "python",
   "nbconvert_exporter": "python",
   "pygments_lexer": "ipython3",
   "version": "3.9.12"
  }
 },
 "nbformat": 4,
 "nbformat_minor": 5
}
